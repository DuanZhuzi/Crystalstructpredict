{
 "cells": [
  {
   "cell_type": "code",
   "execution_count": 1,
   "id": "811803fb-5125-4905-879a-d52b74dea72d",
   "metadata": {
    "tags": []
   },
   "outputs": [],
   "source": [
    "with open('Y.txt', 'r') as f:\n",
    "    Y = f.read().splitlines()\n",
    "with open('X.txt', 'r') as f:\n",
    "    X = f.read().splitlines()"
   ]
  },
  {
   "cell_type": "code",
   "execution_count": 11,
   "id": "059688a3-44bd-42b6-8965-9f790676ddc2",
   "metadata": {
    "tags": []
   },
   "outputs": [],
   "source": [
    "X = np.array(X)\n",
    "Y = np.array(Y)"
   ]
  },
  {
   "cell_type": "code",
   "execution_count": 7,
   "id": "b30b236d-4d75-4b59-b84f-5b68cea56018",
   "metadata": {
    "tags": []
   },
   "outputs": [],
   "source": [
    "import numpy as np\n",
    "from transformers import T5Tokenizer, T5ForConditionalGeneration\n",
    "from datasets import Dataset\n",
    "import jax\n",
    "from jax import numpy as jnp\n",
    "import optax\n",
    "from transformers.models.t5.modeling_flax_t5 import FlaxT5ForConditionalGeneration"
   ]
  },
  {
   "cell_type": "code",
   "execution_count": 13,
   "id": "03c62566-748b-40e2-98cc-7eb20fe99b4f",
   "metadata": {
    "tags": []
   },
   "outputs": [],
   "source": [
    "import pandas as pd"
   ]
  },
  {
   "cell_type": "code",
   "execution_count": 8,
   "id": "c80697d2-2afe-4fbc-a260-fc80b7eccd6c",
   "metadata": {
    "tags": []
   },
   "outputs": [],
   "source": [
    "tokenizer = T5Tokenizer.from_pretrained(\"t5-small\")\n",
    "max_length = 512  # 可根据需求调整"
   ]
  },
  {
   "cell_type": "code",
   "execution_count": 9,
   "id": "bedc9496-1267-4577-bd7b-1348a217ce2b",
   "metadata": {
    "tags": []
   },
   "outputs": [],
   "source": [
    "def encode(example):\n",
    "    input_text = example[\"input_text\"]\n",
    "    target_text = example[\"target_text\"]\n",
    "    input_encoded = tokenizer(input_text, max_length=max_length, truncation=True, padding=\"max_length\", return_tensors=\"np\")\n",
    "    target_encoded = tokenizer(target_text, max_length=max_length, truncation=True, padding=\"max_length\", return_tensors=\"np\")\n",
    "    return {\"input_ids\": input_encoded[\"input_ids\"], \"attention_mask\": input_encoded[\"attention_mask\"], \"labels\": target_encoded[\"input_ids\"]}"
   ]
  },
  {
   "cell_type": "code",
   "execution_count": 14,
   "id": "1fc3c12f-8fe1-4727-886a-c22fbda1e4b3",
   "metadata": {
    "tags": []
   },
   "outputs": [
    {
     "name": "stderr",
     "output_type": "stream",
     "text": [
      "                                                                                                     \r"
     ]
    }
   ],
   "source": [
    "data = pd.DataFrame({\"input_text\": X, \"target_text\": Y})\n",
    "dataset = Dataset.from_pandas(data)\n",
    "dataset = dataset.map(encode, batched=True)"
   ]
  },
  {
   "cell_type": "code",
   "execution_count": 15,
   "id": "a79f3b81-c385-4bfb-8496-cd446f31e5a8",
   "metadata": {
    "tags": []
   },
   "outputs": [],
   "source": [
    "# 将数据集拆分为训练集和验证集\n",
    "dataset = dataset.shuffle(seed=42)\n",
    "train_dataset, eval_dataset = dataset.train_test_split(train_size=0.9)"
   ]
  },
  {
   "cell_type": "code",
   "execution_count": 16,
   "id": "dbfee36c-fd86-4094-9749-72ab00de12c4",
   "metadata": {
    "tags": []
   },
   "outputs": [
    {
     "name": "stderr",
     "output_type": "stream",
     "text": [
      "No GPU/TPU found, falling back to CPU. (Set TF_CPP_MIN_LOG_LEVEL=0 and rerun for more info.)\n"
     ]
    }
   ],
   "source": [
    "# 模型和优化器\n",
    "model = FlaxT5ForConditionalGeneration.from_pretrained(\"t5-small\", input_shape=(1, max_length))\n",
    "optimizer = optax.adamw(learning_rate=1e-4)"
   ]
  },
  {
   "cell_type": "code",
   "execution_count": 17,
   "id": "0b088c12-07a6-42f9-b7a8-266e5809d545",
   "metadata": {
    "tags": []
   },
   "outputs": [],
   "source": [
    "# 训练循环\n",
    "def train_step(model, batch, optimizer):\n",
    "    def loss_fn(params):\n",
    "        with jax.experimental.maps.mesh([], []):\n",
    "            logits = model(batch[\"input_ids\"], attention_mask=batch[\"attention_mask\"], params=params).logits\n",
    "            loss = optax.softmax_cross_entropy(logits, batch[\"labels\"]).mean()\n",
    "        return loss\n",
    "\n",
    "    grad_fn = jax.value_and_grad(loss_fn)\n",
    "    loss, grads = grad_fn(model.params)\n",
    "    optimizer = optimizer.update(grads)\n",
    "    return loss, optimizer"
   ]
  },
  {
   "cell_type": "code",
   "execution_count": 18,
   "id": "2d9bd648-7a27-4b21-b300-5e05dd807623",
   "metadata": {
    "tags": []
   },
   "outputs": [],
   "source": [
    "epochs = 10\n",
    "batch_size = 8"
   ]
  },
  {
   "cell_type": "code",
   "execution_count": 20,
   "id": "9df369f6-e0be-437d-826a-6693859c8024",
   "metadata": {
    "tags": []
   },
   "outputs": [
    {
     "ename": "AttributeError",
     "evalue": "'str' object has no attribute 'items'",
     "output_type": "error",
     "traceback": [
      "\u001b[0;31m---------------------------------------------------------------------------\u001b[0m",
      "\u001b[0;31mAttributeError\u001b[0m                            Traceback (most recent call last)",
      "Cell \u001b[0;32mIn[20], line 5\u001b[0m\n\u001b[1;32m      3\u001b[0m train_loss \u001b[38;5;241m=\u001b[39m \u001b[38;5;241m0\u001b[39m\n\u001b[1;32m      4\u001b[0m \u001b[38;5;28;01mfor\u001b[39;00m i \u001b[38;5;129;01min\u001b[39;00m \u001b[38;5;28mrange\u001b[39m(\u001b[38;5;241m0\u001b[39m, \u001b[38;5;28mlen\u001b[39m(train_dataset), batch_size):\n\u001b[0;32m----> 5\u001b[0m     batch \u001b[38;5;241m=\u001b[39m {k: v[i:i \u001b[38;5;241m+\u001b[39m batch_size] \u001b[38;5;28;01mfor\u001b[39;00m k, v \u001b[38;5;129;01min\u001b[39;00m \u001b[43mtrain_dataset\u001b[49m\u001b[38;5;241;43m.\u001b[39;49m\u001b[43mitems\u001b[49m()}\n\u001b[1;32m      6\u001b[0m     loss, optimizer \u001b[38;5;241m=\u001b[39m train_step(model, batch, optimizer)\n\u001b[1;32m      7\u001b[0m     train_loss \u001b[38;5;241m+\u001b[39m\u001b[38;5;241m=\u001b[39m loss\u001b[38;5;241m.\u001b[39mitem()\n",
      "\u001b[0;31mAttributeError\u001b[0m: 'str' object has no attribute 'items'"
     ]
    }
   ],
   "source": [
    "for epoch in range(epochs):\n",
    "    train_dataset = train_dataset.shuffle(seed=42)\n",
    "    train_loss = 0\n",
    "    for i in range(0, len(train_dataset), batch_size):\n",
    "        batch = {k: v[i:i + batch_size] for k, v in train_dataset.items()}\n",
    "        loss, optimizer = train_step(model, batch, optimizer)\n",
    "        train_loss += loss.item()\n",
    "    print(f\"Epoch {epoch + 1}, Loss: {train_loss / (len(train_dataset) // batch_size)}\")"
   ]
  },
  {
   "cell_type": "code",
   "execution_count": null,
   "id": "ab5ab352-3ce1-41cd-9bd9-447f5dabac5a",
   "metadata": {},
   "outputs": [],
   "source": [
    "# 保存模型\n",
    "model.save_pretrained(\"t5-small-trained\")"
   ]
  }
 ],
 "metadata": {
  "kernelspec": {
   "display_name": "Python 3 (ipykernel)",
   "language": "python",
   "name": "python3"
  },
  "language_info": {
   "codemirror_mode": {
    "name": "ipython",
    "version": 3
   },
   "file_extension": ".py",
   "mimetype": "text/x-python",
   "name": "python",
   "nbconvert_exporter": "python",
   "pygments_lexer": "ipython3",
   "version": "3.10.10"
  }
 },
 "nbformat": 4,
 "nbformat_minor": 5
}
