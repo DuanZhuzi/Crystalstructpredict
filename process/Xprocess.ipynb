{
 "cells": [
  {
   "cell_type": "code",
   "execution_count": 13,
   "id": "7367ea6e-308b-4ec0-9b30-042e545044b5",
   "metadata": {
    "tags": []
   },
   "outputs": [],
   "source": [
    "import pandas as pd\n",
    "import re\n",
    "import numpy as np\n",
    "from sklearn.feature_extraction.text import CountVectorizer\n",
    "data = pd.read_csv(\"data.csv\")"
   ]
  },
  {
   "cell_type": "code",
   "execution_count": 15,
   "id": "903452f4-a5a2-46b3-8dd0-9826aec5bf22",
   "metadata": {
    "tags": []
   },
   "outputs": [
    {
     "data": {
      "text/html": [
       "<div>\n",
       "<style scoped>\n",
       "    .dataframe tbody tr th:only-of-type {\n",
       "        vertical-align: middle;\n",
       "    }\n",
       "\n",
       "    .dataframe tbody tr th {\n",
       "        vertical-align: top;\n",
       "    }\n",
       "\n",
       "    .dataframe thead th {\n",
       "        text-align: right;\n",
       "    }\n",
       "</style>\n",
       "<table border=\"1\" class=\"dataframe\">\n",
       "  <thead>\n",
       "    <tr style=\"text-align: right;\">\n",
       "      <th></th>\n",
       "      <th>formula</th>\n",
       "      <th>elements</th>\n",
       "      <th>nsites</th>\n",
       "      <th>element_symbols</th>\n",
       "      <th>coordinates</th>\n",
       "      <th>energy</th>\n",
       "      <th>spacegroup</th>\n",
       "      <th>spacegroup_num</th>\n",
       "    </tr>\n",
       "  </thead>\n",
       "  <tbody>\n",
       "    <tr>\n",
       "      <th>0</th>\n",
       "      <td>Ag11Hg9</td>\n",
       "      <td>Ag, Hg</td>\n",
       "      <td>20</td>\n",
       "      <td>['Ag', 'Ag', 'Ag', 'Ag', 'Ag', 'Ag', 'Ag', 'Ag...</td>\n",
       "      <td>[[ 1.609567   -0.92928553 33.90805742]\\n [ 1.6...</td>\n",
       "      <td>-677.652749</td>\n",
       "      <td>P3m1</td>\n",
       "      <td>156</td>\n",
       "    </tr>\n",
       "    <tr>\n",
       "      <th>1</th>\n",
       "      <td>Ag2Br3</td>\n",
       "      <td>Ag, Br</td>\n",
       "      <td>10</td>\n",
       "      <td>['Ag', 'Ag', 'Ag', 'Ag', 'Br', 'Br', 'Br', 'Br...</td>\n",
       "      <td>[[-3.46990705e+00 -2.00392334e+00  1.22402099e...</td>\n",
       "      <td>-168.691087</td>\n",
       "      <td>R-3c</td>\n",
       "      <td>167</td>\n",
       "    </tr>\n",
       "    <tr>\n",
       "      <th>2</th>\n",
       "      <td>Ag2Cl3</td>\n",
       "      <td>Ag, Cl</td>\n",
       "      <td>10</td>\n",
       "      <td>['Ag', 'Ag', 'Ag', 'Ag', 'Cl', 'Cl', 'Cl', 'Cl...</td>\n",
       "      <td>[[-3.30941698e+00 -1.91047971e+00  1.71721380e...</td>\n",
       "      <td>-127.332050</td>\n",
       "      <td>R-3c</td>\n",
       "      <td>167</td>\n",
       "    </tr>\n",
       "    <tr>\n",
       "      <th>3</th>\n",
       "      <td>Ag2F</td>\n",
       "      <td>Ag, F</td>\n",
       "      <td>3</td>\n",
       "      <td>['Ag', 'Ag', 'F']</td>\n",
       "      <td>[[-1.83755070e-06  1.72922338e+00  3.97018472e...</td>\n",
       "      <td>-48.352742</td>\n",
       "      <td>P-3m1</td>\n",
       "      <td>164</td>\n",
       "    </tr>\n",
       "    <tr>\n",
       "      <th>4</th>\n",
       "      <td>Ag2F3</td>\n",
       "      <td>Ag, F</td>\n",
       "      <td>10</td>\n",
       "      <td>['Ag', 'Ag', 'Ag', 'Ag', 'F', 'F', 'F', 'F', '...</td>\n",
       "      <td>[[-2.87395102e+00 -1.65949299e+00  2.26233906e...</td>\n",
       "      <td>-116.183864</td>\n",
       "      <td>R-3c</td>\n",
       "      <td>167</td>\n",
       "    </tr>\n",
       "    <tr>\n",
       "      <th>...</th>\n",
       "      <td>...</td>\n",
       "      <td>...</td>\n",
       "      <td>...</td>\n",
       "      <td>...</td>\n",
       "      <td>...</td>\n",
       "      <td>...</td>\n",
       "      <td>...</td>\n",
       "      <td>...</td>\n",
       "    </tr>\n",
       "    <tr>\n",
       "      <th>10623</th>\n",
       "      <td>ZrZn16</td>\n",
       "      <td>Zr, Zn</td>\n",
       "      <td>34</td>\n",
       "      <td>['Zr', 'Zr', 'Zn', 'Zn', 'Zn', 'Zn', 'Zn', 'Zn...</td>\n",
       "      <td>[[-2.17422601  6.06378581  8.71633518]\\n [ 6.4...</td>\n",
       "      <td>-333.573781</td>\n",
       "      <td>Cmcm</td>\n",
       "      <td>63</td>\n",
       "    </tr>\n",
       "    <tr>\n",
       "      <th>10624</th>\n",
       "      <td>ZrZn2</td>\n",
       "      <td>Zr, Zn</td>\n",
       "      <td>6</td>\n",
       "      <td>['Zr', 'Zr', 'Zn', 'Zn', 'Zn', 'Zn']</td>\n",
       "      <td>[[ 5.25615317e+00  3.71666061e+00  9.10392570e...</td>\n",
       "      <td>-83.354040</td>\n",
       "      <td>Fd-3m</td>\n",
       "      <td>227</td>\n",
       "    </tr>\n",
       "    <tr>\n",
       "      <th>10625</th>\n",
       "      <td>ZrZn22</td>\n",
       "      <td>Zr, Zn</td>\n",
       "      <td>46</td>\n",
       "      <td>['Zr', 'Zr', 'Zn', 'Zn', 'Zn', 'Zn', 'Zn', 'Zn...</td>\n",
       "      <td>[[ 4.26511414e+00  3.01589110e+00  7.38739309e...</td>\n",
       "      <td>-440.455327</td>\n",
       "      <td>Fd-3m</td>\n",
       "      <td>227</td>\n",
       "    </tr>\n",
       "    <tr>\n",
       "      <th>10626</th>\n",
       "      <td>ZrZn3</td>\n",
       "      <td>Zr, Zn</td>\n",
       "      <td>8</td>\n",
       "      <td>['Zr', 'Zr', 'Zn', 'Zn', 'Zn', 'Zn', 'Zn', 'Zn']</td>\n",
       "      <td>[[ 2.24703936e-06  3.37600716e+00  3.24801562e...</td>\n",
       "      <td>-101.493900</td>\n",
       "      <td>P6_3/mmc</td>\n",
       "      <td>194</td>\n",
       "    </tr>\n",
       "    <tr>\n",
       "      <th>10627</th>\n",
       "      <td>NaN</td>\n",
       "      <td>Na, N</td>\n",
       "      <td>8</td>\n",
       "      <td>['Na', 'Na', 'Na', 'Na', 'N', 'N', 'N', 'N']</td>\n",
       "      <td>[[3.93926    4.366545   2.46981583]\\n [3.93926...</td>\n",
       "      <td>-50.234293</td>\n",
       "      <td>Fddd</td>\n",
       "      <td>70</td>\n",
       "    </tr>\n",
       "  </tbody>\n",
       "</table>\n",
       "<p>10628 rows × 8 columns</p>\n",
       "</div>"
      ],
      "text/plain": [
       "       formula elements  nsites   \n",
       "0      Ag11Hg9   Ag, Hg      20  \\\n",
       "1       Ag2Br3   Ag, Br      10   \n",
       "2       Ag2Cl3   Ag, Cl      10   \n",
       "3         Ag2F    Ag, F       3   \n",
       "4        Ag2F3    Ag, F      10   \n",
       "...        ...      ...     ...   \n",
       "10623   ZrZn16   Zr, Zn      34   \n",
       "10624    ZrZn2   Zr, Zn       6   \n",
       "10625   ZrZn22   Zr, Zn      46   \n",
       "10626    ZrZn3   Zr, Zn       8   \n",
       "10627      NaN    Na, N       8   \n",
       "\n",
       "                                         element_symbols   \n",
       "0      ['Ag', 'Ag', 'Ag', 'Ag', 'Ag', 'Ag', 'Ag', 'Ag...  \\\n",
       "1      ['Ag', 'Ag', 'Ag', 'Ag', 'Br', 'Br', 'Br', 'Br...   \n",
       "2      ['Ag', 'Ag', 'Ag', 'Ag', 'Cl', 'Cl', 'Cl', 'Cl...   \n",
       "3                                      ['Ag', 'Ag', 'F']   \n",
       "4      ['Ag', 'Ag', 'Ag', 'Ag', 'F', 'F', 'F', 'F', '...   \n",
       "...                                                  ...   \n",
       "10623  ['Zr', 'Zr', 'Zn', 'Zn', 'Zn', 'Zn', 'Zn', 'Zn...   \n",
       "10624               ['Zr', 'Zr', 'Zn', 'Zn', 'Zn', 'Zn']   \n",
       "10625  ['Zr', 'Zr', 'Zn', 'Zn', 'Zn', 'Zn', 'Zn', 'Zn...   \n",
       "10626   ['Zr', 'Zr', 'Zn', 'Zn', 'Zn', 'Zn', 'Zn', 'Zn']   \n",
       "10627       ['Na', 'Na', 'Na', 'Na', 'N', 'N', 'N', 'N']   \n",
       "\n",
       "                                             coordinates      energy   \n",
       "0      [[ 1.609567   -0.92928553 33.90805742]\\n [ 1.6... -677.652749  \\\n",
       "1      [[-3.46990705e+00 -2.00392334e+00  1.22402099e... -168.691087   \n",
       "2      [[-3.30941698e+00 -1.91047971e+00  1.71721380e... -127.332050   \n",
       "3      [[-1.83755070e-06  1.72922338e+00  3.97018472e...  -48.352742   \n",
       "4      [[-2.87395102e+00 -1.65949299e+00  2.26233906e... -116.183864   \n",
       "...                                                  ...         ...   \n",
       "10623  [[-2.17422601  6.06378581  8.71633518]\\n [ 6.4... -333.573781   \n",
       "10624  [[ 5.25615317e+00  3.71666061e+00  9.10392570e...  -83.354040   \n",
       "10625  [[ 4.26511414e+00  3.01589110e+00  7.38739309e... -440.455327   \n",
       "10626  [[ 2.24703936e-06  3.37600716e+00  3.24801562e... -101.493900   \n",
       "10627  [[3.93926    4.366545   2.46981583]\\n [3.93926...  -50.234293   \n",
       "\n",
       "      spacegroup  spacegroup_num  \n",
       "0           P3m1             156  \n",
       "1           R-3c             167  \n",
       "2           R-3c             167  \n",
       "3          P-3m1             164  \n",
       "4           R-3c             167  \n",
       "...          ...             ...  \n",
       "10623       Cmcm              63  \n",
       "10624      Fd-3m             227  \n",
       "10625      Fd-3m             227  \n",
       "10626   P6_3/mmc             194  \n",
       "10627       Fddd              70  \n",
       "\n",
       "[10628 rows x 8 columns]"
      ]
     },
     "execution_count": 15,
     "metadata": {},
     "output_type": "execute_result"
    }
   ],
   "source": [
    "data"
   ]
  },
  {
   "cell_type": "code",
   "execution_count": 2,
   "id": "f330f0f8-b2f1-4913-a4db-0c8cb04202f4",
   "metadata": {
    "tags": []
   },
   "outputs": [],
   "source": [
    "from element_data import atomic_radius, electron_config_full"
   ]
  },
  {
   "cell_type": "code",
   "execution_count": 3,
   "id": "e52fbc02-b958-42c3-b1c2-d69ef03ce01d",
   "metadata": {
    "tags": []
   },
   "outputs": [],
   "source": [
    "compounds = {}"
   ]
  },
  {
   "cell_type": "code",
   "execution_count": 59,
   "id": "85c2d205-7502-4769-bedd-789e72bf82d3",
   "metadata": {
    "tags": []
   },
   "outputs": [],
   "source": [
    "for index, row in data.iterrows():\n",
    "    formula = row['formula']\n",
    "    elements = row['elements'].split(', ')\n",
    "    elements_site = row['element_symbols']\n",
    "    lst = [x.replace(\"'\", \"\").replace('\"', '') for x in elements_site[1:-1].split(', ')]\n",
    "    nsites = row['nsites']\n",
    "    coordinates = row['coordinates']\n",
    "    energy = row['energy']\n",
    "    space_group = row['spacegroup']\n",
    "    space_group_number = row['spacegroup_num']\n",
    "    \n",
    "    element_count = {}\n",
    "    for el in lst:\n",
    "        if el not in element_count:\n",
    "            element_count[el] = 0\n",
    "        element_count[el] += 1\n",
    "            \n",
    "    compound_str = \"\"\n",
    "    for element, count in element_count.items():\n",
    "        radius = atomic_radius.get(element)\n",
    "        electronic_config = electron_config_full.get(element)\n",
    "        proportion = count / nsites\n",
    "        \n",
    "        compound_str += f\"{element}_r{radius:.2f}_e{electronic_config}_p{proportion:.1f}_\"\n",
    "        \n",
    "    compounds[formula] = compound_str[:-1]"
   ]
  },
  {
   "cell_type": "code",
   "execution_count": 60,
   "id": "3eb709d0-2bf8-4f6e-a0e0-a6811b51df82",
   "metadata": {
    "tags": []
   },
   "outputs": [],
   "source": [
    "# 将compounds转换为字符串列表，并将元素符号转换为小写形式\n",
    "compounds_list = [x.lower() for x in compounds.values()]"
   ]
  },
  {
   "cell_type": "code",
   "execution_count": 61,
   "id": "e2537467-924d-419d-a3b7-600492dec4ad",
   "metadata": {
    "tags": []
   },
   "outputs": [
    {
     "data": {
      "text/plain": [
       "['ag_r153.00_e[kr]4d10 5s1_p0.6_hg_r149.00_e[xe]4f14 5d10 6s2_p0.5',\n",
       " 'ag_r153.00_e[kr]4d10 5s1_p0.4_br_r114.00_e[ar]3d10 4s2 4p5_p0.6',\n",
       " 'ag_r153.00_e[kr]4d10 5s1_p0.4_cl_r99.00_e[ne]3s2 3p5_p0.6',\n",
       " 'ag_r153.00_e[kr]4d10 5s1_p0.7_f_r57.00_e[he]2s2 2p5_p0.3',\n",
       " 'ag_r153.00_e[kr]4d10 5s1_p0.4_f_r57.00_e[he]2s2 2p5_p0.6']"
      ]
     },
     "execution_count": 61,
     "metadata": {},
     "output_type": "execute_result"
    }
   ],
   "source": [
    "compounds_list[:5]"
   ]
  },
  {
   "cell_type": "code",
   "execution_count": 62,
   "id": "0011d774-1e7c-4ee1-b1d0-3ac4dbf37f51",
   "metadata": {
    "tags": []
   },
   "outputs": [],
   "source": [
    "from sklearn.feature_extraction.text import CountVectorizer"
   ]
  },
  {
   "cell_type": "code",
   "execution_count": 63,
   "id": "1396b81f-7c97-407a-87bb-65ebc32984a7",
   "metadata": {
    "tags": []
   },
   "outputs": [],
   "source": [
    "# 创建CountVectorizer对象\n",
    "vectorizer = CountVectorizer(token_pattern='(?u)\\\\b\\\\w+\\\\b')"
   ]
  },
  {
   "cell_type": "code",
   "execution_count": 64,
   "id": "cd18880c-f0f1-4e32-a103-00c3a08b8f7e",
   "metadata": {
    "tags": []
   },
   "outputs": [],
   "source": [
    "# 将字符串列表转换为词向量矩阵\n",
    "X = vectorizer.fit_transform(compounds_list).toarray()"
   ]
  },
  {
   "cell_type": "code",
   "execution_count": 65,
   "id": "63ad1255-f0f8-4d0a-8c76-22cc98094acc",
   "metadata": {
    "tags": []
   },
   "outputs": [
    {
     "data": {
      "text/plain": [
       "(10628, 744)"
      ]
     },
     "execution_count": 65,
     "metadata": {},
     "output_type": "execute_result"
    }
   ],
   "source": [
    "X.shape"
   ]
  },
  {
   "cell_type": "code",
   "execution_count": 66,
   "id": "64ba264f-5a8f-4961-86b8-f67212083852",
   "metadata": {
    "tags": []
   },
   "outputs": [
    {
     "data": {
      "text/plain": [
       "array([0, 2, 0, 0, 0, 0, 0, 0, 0, 0, 0, 0, 0, 0, 0, 0, 0, 0, 0, 0, 0, 0,\n",
       "       0, 0, 0, 0, 0, 0, 0, 0, 0, 0, 0, 0, 0, 0, 0, 0, 0, 0, 0, 0, 0, 0,\n",
       "       0, 0, 0, 0, 0, 0, 0, 0, 0, 0, 0, 0, 0, 0, 0, 0, 0, 0, 0, 0, 0, 0,\n",
       "       0, 0, 0, 0, 0, 0, 0, 0, 0, 0, 0, 0, 0, 0, 0, 0, 0, 0, 0, 0, 0, 0,\n",
       "       0, 0, 0, 0, 0, 0, 0, 0, 0, 0, 0, 0, 0, 0, 0, 0, 0, 0, 0, 0, 0, 0,\n",
       "       0, 0, 0, 0, 0, 0, 0, 0, 0, 0, 0, 0, 0, 0, 0, 0, 0, 0, 0, 0, 0, 0,\n",
       "       0, 0, 0, 0, 0, 0, 0, 0, 0, 0, 0, 0, 0, 0, 0, 0, 0, 0, 0, 0, 0, 0,\n",
       "       0, 0, 0, 0, 0, 0, 0, 0, 0, 0, 0, 0, 0, 0, 0, 0, 0, 0, 0, 0, 0, 0,\n",
       "       0, 0, 0, 0, 0, 0, 0, 0, 0, 0, 0, 0, 0, 0, 0, 0, 0, 0, 0, 0, 0, 0,\n",
       "       0, 0, 0, 0, 0, 0, 0, 0, 0, 0, 0, 0, 0, 0, 0, 0, 0, 0, 0, 0, 0, 0,\n",
       "       0, 0, 0, 0, 0, 0, 0, 0, 0, 0, 0, 0, 1, 0, 0, 0, 0, 0, 0, 0, 0, 0,\n",
       "       0, 0, 0, 0, 0, 0, 0, 0, 0, 0, 0, 0, 0, 0, 0, 1, 0, 0, 0, 0, 0, 0,\n",
       "       0, 0, 0, 0, 0, 0, 0, 0, 0, 0, 0, 0, 0, 0, 0, 0, 0, 0, 0, 0, 0, 0,\n",
       "       0, 0, 0, 0, 0, 0, 0, 0, 0, 0, 0, 1, 0, 0, 0, 0, 0, 0, 0, 0, 0, 0,\n",
       "       0, 0, 0, 0, 0, 0, 0, 0, 0, 0, 0, 0, 1, 0, 0, 0, 1, 0, 0, 0, 0, 0,\n",
       "       0, 0, 0, 0, 0, 0, 0, 0, 0, 0, 0, 0, 0, 0, 0, 0, 0, 0, 0, 0, 0, 0,\n",
       "       0, 0, 0, 0, 0, 0, 0, 0, 0, 0, 0, 0, 0, 0, 0, 0, 0, 0, 0, 0, 0, 0,\n",
       "       0, 0, 0, 0, 0, 0, 0, 0, 0, 0, 0, 0, 0, 0, 0, 0, 0, 0, 0, 0, 0, 0,\n",
       "       0, 0, 0, 0, 0, 0, 0, 0, 0, 0, 0, 0, 0, 0, 0, 0, 0, 0, 0, 0, 0, 0,\n",
       "       1, 0, 0, 1, 0, 0, 0, 0, 0, 0, 0, 0, 0, 0, 0, 0, 0, 0, 0, 0, 0, 0,\n",
       "       0, 0, 0, 0, 0, 0, 0, 0, 0, 0, 0, 0, 0, 0, 0, 0, 0, 0, 0, 0, 0, 0,\n",
       "       0, 0, 0, 0, 0, 0, 0, 0, 0, 0, 0, 0, 0, 0, 0, 0, 0, 0, 0, 0, 0, 0,\n",
       "       0, 0, 0, 0, 0, 0, 0, 0, 0, 0, 0, 0, 0, 0, 0, 0, 0, 0, 0, 0, 0, 0,\n",
       "       0, 0, 0, 0, 0, 0, 0, 0, 0, 0, 0, 0, 0, 0, 0, 0, 0, 0, 0, 0, 0, 0,\n",
       "       0, 0, 0, 0, 0, 0, 0, 0, 0, 0, 0, 0, 0, 0, 0, 0, 0, 0, 0, 0, 0, 0,\n",
       "       0, 0, 0, 0, 0, 0, 0, 0, 0, 0, 0, 0, 0, 0, 0, 0, 0, 0, 0, 0, 0, 0,\n",
       "       0, 0, 0, 0, 0, 0, 0, 0, 0, 0, 0, 0, 0, 0, 0, 0, 0, 0, 0, 0, 0, 0,\n",
       "       0, 0, 0, 0, 0, 0, 0, 0, 0, 0, 0, 0, 0, 0, 0, 0, 0, 0, 0, 0, 0, 0,\n",
       "       0, 0, 0, 0, 0, 0, 0, 0, 0, 0, 0, 0, 0, 0, 0, 0, 0, 0, 0, 0, 0, 0,\n",
       "       0, 0, 0, 0, 0, 0, 0, 0, 0, 0, 0, 0, 0, 0, 0, 0, 0, 0, 0, 0, 0, 0,\n",
       "       1, 0, 1, 0, 0, 0, 0, 0, 0, 0, 0, 0, 0, 0, 0, 0, 0, 0, 0, 0, 0, 0,\n",
       "       0, 0, 0, 0, 0, 0, 0, 0, 0, 0, 0, 0, 0, 1, 0, 0, 0, 0, 0, 0, 0, 0,\n",
       "       0, 0, 0, 0, 0, 0, 0, 0, 0, 0, 0, 0, 0, 0, 0, 0, 0, 0, 0, 0, 0, 0,\n",
       "       0, 0, 0, 0, 0, 0, 0, 0, 0, 0, 0, 0, 0, 0, 0, 0, 0, 0])"
      ]
     },
     "execution_count": 66,
     "metadata": {},
     "output_type": "execute_result"
    }
   ],
   "source": [
    "X[1,:]"
   ]
  },
  {
   "cell_type": "code",
   "execution_count": 88,
   "id": "d6fbc11f-a1b0-4d1b-a55c-8b9817ca7b09",
   "metadata": {
    "tags": []
   },
   "outputs": [],
   "source": [
    "import pandas as pd\n",
    "\n",
    "# 从data.csv文件中加载晶体结构数据集\n",
    "data = pd.read_csv('data.csv')"
   ]
  },
  {
   "cell_type": "code",
   "execution_count": 3,
   "id": "e55174c3-4df1-4cce-88f2-314613e490d2",
   "metadata": {
    "tags": []
   },
   "outputs": [],
   "source": [
    "Y = []\n",
    "compounds = {}"
   ]
  },
  {
   "cell_type": "code",
   "execution_count": 7,
   "id": "76daa8a3-187e-4795-a7e0-e52e0ae40068",
   "metadata": {
    "tags": []
   },
   "outputs": [],
   "source": [
    "for index, row in data.iterrows():\n",
    "    formula = row['formula']\n",
    "    elements = row['elements'].split(', ')\n",
    "    elements_site = row['element_symbols']\n",
    "    lst = [x.replace(\"'\", \"\").replace('\"', '') for x in elements_site[1:-1].split(', ')]\n",
    "    nsites = row['nsites']\n",
    "    coordinates = row['coordinates']\n",
    "    energy = row['energy']\n",
    "    space_group = row['spacegroup']\n",
    "    space_group_number = row['spacegroup_num']\n",
    "    \n",
    "    # 使用正则表达式提取数字\n",
    "    pattern = r'[-+]?\\d*\\.\\d+|\\d+'\n",
    "    coordinates_list = [list(map(float, re.findall(pattern, c))) for c in coordinates.split('\\n') if c.strip()]\n",
    "    coordinates_array = []\n",
    "    # 将列表转换为NumPy数组\n",
    "    try:\n",
    "        coordinates_array = np.array(coordinates_list)\n",
    "    except ValueError:\n",
    "        # 如果出现ValueError异常，则删除该行数据\n",
    "        data = data.drop(index)\n",
    "        continue\n",
    "        \n",
    "    if nsites > 12:\n",
    "        continue\n",
    "    \n",
    "    coordinates_str = '_'.join([f\"{e}{tuple(c)}\" for e, c in zip(lst, coordinates_list)])\n",
    "    \n",
    "    # 将空间群信息添加到字符串末尾\n",
    "    Y_str = f\"{coordinates_str}_SG{space_group_number}\"\n",
    "    \n",
    "    # 将Y字符串添加到Y列表\n",
    "    Y.append(Y_str)\n",
    "    \n",
    "    element_count = {}\n",
    "    for el in lst:\n",
    "        if el not in element_count:\n",
    "            element_count[el] = 0\n",
    "        element_count[el] += 1\n",
    "            \n",
    "    compound_str = \"\"\n",
    "    for element, count in element_count.items():\n",
    "        radius = atomic_radius.get(element)\n",
    "        electronic_config = electron_config_full.get(element)\n",
    "        proportion = count / nsites\n",
    "        \n",
    "        compound_str += f\"{element}_r{radius:.2f}_e{electronic_config}_p{proportion:.1f}_\"\n",
    "        \n",
    "    compounds[formula] = compound_str[:-1]"
   ]
  },
  {
   "cell_type": "code",
   "execution_count": 8,
   "id": "654a3a0f-c951-46f4-87c2-35d22909ab09",
   "metadata": {
    "tags": []
   },
   "outputs": [],
   "source": [
    "# 创建CountVectorizer对象\n",
    "vectorizer = CountVectorizer(token_pattern='(?u)\\\\b\\\\w+\\\\b')"
   ]
  },
  {
   "cell_type": "code",
   "execution_count": 9,
   "id": "6adb9a75-7368-44ad-8ec2-7e00ee73b27d",
   "metadata": {
    "tags": []
   },
   "outputs": [],
   "source": [
    "Y = [s.lower() for s in Y]\n",
    "# 将compounds转换为字符串列表，并将元素符号转换为小写形式\n",
    "compounds_list = [x.lower() for x in compounds.values()]"
   ]
  },
  {
   "cell_type": "code",
   "execution_count": 10,
   "id": "2dd21d59-c013-4672-911b-4cdcd4a985a4",
   "metadata": {
    "tags": []
   },
   "outputs": [],
   "source": [
    "X = compounds_list"
   ]
  },
  {
   "cell_type": "code",
   "execution_count": 11,
   "id": "80a57728-c958-417f-8e9b-bbed8477bbbb",
   "metadata": {
    "tags": []
   },
   "outputs": [],
   "source": [
    "with open('Y.txt', 'w') as f:\n",
    "    for item in Y:\n",
    "        f.write(\"%s\\n\" % item)"
   ]
  },
  {
   "cell_type": "code",
   "execution_count": 12,
   "id": "97942ce4-c300-40ea-b03d-eb1eb626518f",
   "metadata": {
    "tags": []
   },
   "outputs": [],
   "source": [
    "with open('X.txt', 'w') as f:\n",
    "    for item in X:\n",
    "        f.write(\"%s\\n\" % item)"
   ]
  },
  {
   "cell_type": "code",
   "execution_count": null,
   "id": "9f60e300-180e-4ba5-8496-1f43e543b43a",
   "metadata": {},
   "outputs": [],
   "source": []
  }
 ],
 "metadata": {
  "kernelspec": {
   "display_name": "Python 3 (ipykernel)",
   "language": "python",
   "name": "python3"
  },
  "language_info": {
   "codemirror_mode": {
    "name": "ipython",
    "version": 3
   },
   "file_extension": ".py",
   "mimetype": "text/x-python",
   "name": "python",
   "nbconvert_exporter": "python",
   "pygments_lexer": "ipython3",
   "version": "3.10.10"
  }
 },
 "nbformat": 4,
 "nbformat_minor": 5
}
