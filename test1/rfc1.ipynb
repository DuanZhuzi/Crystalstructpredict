{
 "cells": [
  {
   "cell_type": "code",
   "execution_count": 2,
   "id": "dba7945a-409c-4f36-ae54-cc4a8c38f927",
   "metadata": {
    "tags": []
   },
   "outputs": [],
   "source": [
    "import jax\n",
    "import jax.numpy as jnp\n",
    "import pandas as pd\n",
    "from sklearn.ensemble import RandomForestClassifier\n",
    "from sklearn.model_selection import train_test_split\n",
    "from sklearn.metrics import accuracy_score"
   ]
  },
  {
   "cell_type": "code",
   "execution_count": 12,
   "id": "8c2c1c71-4170-4624-be14-c439a1a34ce4",
   "metadata": {
    "tags": []
   },
   "outputs": [],
   "source": [
    "# load the CSV file into a Pandas DataFrame\n",
    "df = pd.read_csv(\"data.csv\")"
   ]
  },
  {
   "cell_type": "code",
   "execution_count": 13,
   "id": "94fcaeaf-6b8a-4275-b3c9-30f9f5f2e8f6",
   "metadata": {
    "tags": []
   },
   "outputs": [
    {
     "data": {
      "text/html": [
       "<div>\n",
       "<style scoped>\n",
       "    .dataframe tbody tr th:only-of-type {\n",
       "        vertical-align: middle;\n",
       "    }\n",
       "\n",
       "    .dataframe tbody tr th {\n",
       "        vertical-align: top;\n",
       "    }\n",
       "\n",
       "    .dataframe thead th {\n",
       "        text-align: right;\n",
       "    }\n",
       "</style>\n",
       "<table border=\"1\" class=\"dataframe\">\n",
       "  <thead>\n",
       "    <tr style=\"text-align: right;\">\n",
       "      <th></th>\n",
       "      <th>formula</th>\n",
       "      <th>elements</th>\n",
       "      <th>nsites</th>\n",
       "      <th>element_symbols</th>\n",
       "      <th>coordinates</th>\n",
       "      <th>energy</th>\n",
       "      <th>spacegroup</th>\n",
       "      <th>spacegroup_num</th>\n",
       "    </tr>\n",
       "  </thead>\n",
       "  <tbody>\n",
       "    <tr>\n",
       "      <th>0</th>\n",
       "      <td>Ag11Hg9</td>\n",
       "      <td>Ag, Hg</td>\n",
       "      <td>20</td>\n",
       "      <td>['Ag', 'Ag', 'Ag', 'Ag', 'Ag', 'Ag', 'Ag', 'Ag...</td>\n",
       "      <td>[[ 1.609567   -0.92928553 33.90805742]\\n [ 1.6...</td>\n",
       "      <td>-677.652749</td>\n",
       "      <td>P3m1</td>\n",
       "      <td>156</td>\n",
       "    </tr>\n",
       "    <tr>\n",
       "      <th>1</th>\n",
       "      <td>Ag2Br3</td>\n",
       "      <td>Ag, Br</td>\n",
       "      <td>10</td>\n",
       "      <td>['Ag', 'Ag', 'Ag', 'Ag', 'Br', 'Br', 'Br', 'Br...</td>\n",
       "      <td>[[-3.46990705e+00 -2.00392334e+00  1.22402099e...</td>\n",
       "      <td>-168.691087</td>\n",
       "      <td>R-3c</td>\n",
       "      <td>167</td>\n",
       "    </tr>\n",
       "    <tr>\n",
       "      <th>2</th>\n",
       "      <td>Ag2Cl3</td>\n",
       "      <td>Ag, Cl</td>\n",
       "      <td>10</td>\n",
       "      <td>['Ag', 'Ag', 'Ag', 'Ag', 'Cl', 'Cl', 'Cl', 'Cl...</td>\n",
       "      <td>[[-3.30941698e+00 -1.91047971e+00  1.71721380e...</td>\n",
       "      <td>-127.332050</td>\n",
       "      <td>R-3c</td>\n",
       "      <td>167</td>\n",
       "    </tr>\n",
       "    <tr>\n",
       "      <th>3</th>\n",
       "      <td>Ag2F</td>\n",
       "      <td>Ag, F</td>\n",
       "      <td>3</td>\n",
       "      <td>['Ag', 'Ag', 'F']</td>\n",
       "      <td>[[-1.83755070e-06  1.72922338e+00  3.97018472e...</td>\n",
       "      <td>-48.352742</td>\n",
       "      <td>P-3m1</td>\n",
       "      <td>164</td>\n",
       "    </tr>\n",
       "    <tr>\n",
       "      <th>4</th>\n",
       "      <td>Ag2F3</td>\n",
       "      <td>Ag, F</td>\n",
       "      <td>10</td>\n",
       "      <td>['Ag', 'Ag', 'Ag', 'Ag', 'F', 'F', 'F', 'F', '...</td>\n",
       "      <td>[[-2.87395102e+00 -1.65949299e+00  2.26233906e...</td>\n",
       "      <td>-116.183864</td>\n",
       "      <td>R-3c</td>\n",
       "      <td>167</td>\n",
       "    </tr>\n",
       "    <tr>\n",
       "      <th>...</th>\n",
       "      <td>...</td>\n",
       "      <td>...</td>\n",
       "      <td>...</td>\n",
       "      <td>...</td>\n",
       "      <td>...</td>\n",
       "      <td>...</td>\n",
       "      <td>...</td>\n",
       "      <td>...</td>\n",
       "    </tr>\n",
       "    <tr>\n",
       "      <th>10623</th>\n",
       "      <td>ZrZn16</td>\n",
       "      <td>Zr, Zn</td>\n",
       "      <td>34</td>\n",
       "      <td>['Zr', 'Zr', 'Zn', 'Zn', 'Zn', 'Zn', 'Zn', 'Zn...</td>\n",
       "      <td>[[-2.17422601  6.06378581  8.71633518]\\n [ 6.4...</td>\n",
       "      <td>-333.573781</td>\n",
       "      <td>Cmcm</td>\n",
       "      <td>63</td>\n",
       "    </tr>\n",
       "    <tr>\n",
       "      <th>10624</th>\n",
       "      <td>ZrZn2</td>\n",
       "      <td>Zr, Zn</td>\n",
       "      <td>6</td>\n",
       "      <td>['Zr', 'Zr', 'Zn', 'Zn', 'Zn', 'Zn']</td>\n",
       "      <td>[[ 5.25615317e+00  3.71666061e+00  9.10392570e...</td>\n",
       "      <td>-83.354040</td>\n",
       "      <td>Fd-3m</td>\n",
       "      <td>227</td>\n",
       "    </tr>\n",
       "    <tr>\n",
       "      <th>10625</th>\n",
       "      <td>ZrZn22</td>\n",
       "      <td>Zr, Zn</td>\n",
       "      <td>46</td>\n",
       "      <td>['Zr', 'Zr', 'Zn', 'Zn', 'Zn', 'Zn', 'Zn', 'Zn...</td>\n",
       "      <td>[[ 4.26511414e+00  3.01589110e+00  7.38739309e...</td>\n",
       "      <td>-440.455327</td>\n",
       "      <td>Fd-3m</td>\n",
       "      <td>227</td>\n",
       "    </tr>\n",
       "    <tr>\n",
       "      <th>10626</th>\n",
       "      <td>ZrZn3</td>\n",
       "      <td>Zr, Zn</td>\n",
       "      <td>8</td>\n",
       "      <td>['Zr', 'Zr', 'Zn', 'Zn', 'Zn', 'Zn', 'Zn', 'Zn']</td>\n",
       "      <td>[[ 2.24703936e-06  3.37600716e+00  3.24801562e...</td>\n",
       "      <td>-101.493900</td>\n",
       "      <td>P6_3/mmc</td>\n",
       "      <td>194</td>\n",
       "    </tr>\n",
       "    <tr>\n",
       "      <th>10627</th>\n",
       "      <td>NaN</td>\n",
       "      <td>Na, N</td>\n",
       "      <td>8</td>\n",
       "      <td>['Na', 'Na', 'Na', 'Na', 'N', 'N', 'N', 'N']</td>\n",
       "      <td>[[3.93926    4.366545   2.46981583]\\n [3.93926...</td>\n",
       "      <td>-50.234293</td>\n",
       "      <td>Fddd</td>\n",
       "      <td>70</td>\n",
       "    </tr>\n",
       "  </tbody>\n",
       "</table>\n",
       "<p>10628 rows × 8 columns</p>\n",
       "</div>"
      ],
      "text/plain": [
       "       formula elements  nsites   \n",
       "0      Ag11Hg9   Ag, Hg      20  \\\n",
       "1       Ag2Br3   Ag, Br      10   \n",
       "2       Ag2Cl3   Ag, Cl      10   \n",
       "3         Ag2F    Ag, F       3   \n",
       "4        Ag2F3    Ag, F      10   \n",
       "...        ...      ...     ...   \n",
       "10623   ZrZn16   Zr, Zn      34   \n",
       "10624    ZrZn2   Zr, Zn       6   \n",
       "10625   ZrZn22   Zr, Zn      46   \n",
       "10626    ZrZn3   Zr, Zn       8   \n",
       "10627      NaN    Na, N       8   \n",
       "\n",
       "                                         element_symbols   \n",
       "0      ['Ag', 'Ag', 'Ag', 'Ag', 'Ag', 'Ag', 'Ag', 'Ag...  \\\n",
       "1      ['Ag', 'Ag', 'Ag', 'Ag', 'Br', 'Br', 'Br', 'Br...   \n",
       "2      ['Ag', 'Ag', 'Ag', 'Ag', 'Cl', 'Cl', 'Cl', 'Cl...   \n",
       "3                                      ['Ag', 'Ag', 'F']   \n",
       "4      ['Ag', 'Ag', 'Ag', 'Ag', 'F', 'F', 'F', 'F', '...   \n",
       "...                                                  ...   \n",
       "10623  ['Zr', 'Zr', 'Zn', 'Zn', 'Zn', 'Zn', 'Zn', 'Zn...   \n",
       "10624               ['Zr', 'Zr', 'Zn', 'Zn', 'Zn', 'Zn']   \n",
       "10625  ['Zr', 'Zr', 'Zn', 'Zn', 'Zn', 'Zn', 'Zn', 'Zn...   \n",
       "10626   ['Zr', 'Zr', 'Zn', 'Zn', 'Zn', 'Zn', 'Zn', 'Zn']   \n",
       "10627       ['Na', 'Na', 'Na', 'Na', 'N', 'N', 'N', 'N']   \n",
       "\n",
       "                                             coordinates      energy   \n",
       "0      [[ 1.609567   -0.92928553 33.90805742]\\n [ 1.6... -677.652749  \\\n",
       "1      [[-3.46990705e+00 -2.00392334e+00  1.22402099e... -168.691087   \n",
       "2      [[-3.30941698e+00 -1.91047971e+00  1.71721380e... -127.332050   \n",
       "3      [[-1.83755070e-06  1.72922338e+00  3.97018472e...  -48.352742   \n",
       "4      [[-2.87395102e+00 -1.65949299e+00  2.26233906e... -116.183864   \n",
       "...                                                  ...         ...   \n",
       "10623  [[-2.17422601  6.06378581  8.71633518]\\n [ 6.4... -333.573781   \n",
       "10624  [[ 5.25615317e+00  3.71666061e+00  9.10392570e...  -83.354040   \n",
       "10625  [[ 4.26511414e+00  3.01589110e+00  7.38739309e... -440.455327   \n",
       "10626  [[ 2.24703936e-06  3.37600716e+00  3.24801562e... -101.493900   \n",
       "10627  [[3.93926    4.366545   2.46981583]\\n [3.93926...  -50.234293   \n",
       "\n",
       "      spacegroup  spacegroup_num  \n",
       "0           P3m1             156  \n",
       "1           R-3c             167  \n",
       "2           R-3c             167  \n",
       "3          P-3m1             164  \n",
       "4           R-3c             167  \n",
       "...          ...             ...  \n",
       "10623       Cmcm              63  \n",
       "10624      Fd-3m             227  \n",
       "10625      Fd-3m             227  \n",
       "10626   P6_3/mmc             194  \n",
       "10627       Fddd              70  \n",
       "\n",
       "[10628 rows x 8 columns]"
      ]
     },
     "execution_count": 13,
     "metadata": {},
     "output_type": "execute_result"
    }
   ],
   "source": [
    "df"
   ]
  },
  {
   "cell_type": "code",
   "execution_count": 4,
   "id": "131694aa-007c-4f28-b522-1b2192564951",
   "metadata": {
    "tags": []
   },
   "outputs": [
    {
     "name": "stderr",
     "output_type": "stream",
     "text": [
      "/tmp/ipykernel_8207/3177165320.py:4: PerformanceWarning: DataFrame is highly fragmented.  This is usually the result of calling `frame.insert` many times, which has poor performance.  Consider joining all columns at once using pd.concat(axis=1) instead. To get a de-fragmented frame, use `newframe = frame.copy()`\n",
      "  df[element] = df[\"elements\"].apply(lambda x: element in x).astype(int)\n",
      "/tmp/ipykernel_8207/3177165320.py:4: PerformanceWarning: DataFrame is highly fragmented.  This is usually the result of calling `frame.insert` many times, which has poor performance.  Consider joining all columns at once using pd.concat(axis=1) instead. To get a de-fragmented frame, use `newframe = frame.copy()`\n",
      "  df[element] = df[\"elements\"].apply(lambda x: element in x).astype(int)\n",
      "/tmp/ipykernel_8207/3177165320.py:4: PerformanceWarning: DataFrame is highly fragmented.  This is usually the result of calling `frame.insert` many times, which has poor performance.  Consider joining all columns at once using pd.concat(axis=1) instead. To get a de-fragmented frame, use `newframe = frame.copy()`\n",
      "  df[element] = df[\"elements\"].apply(lambda x: element in x).astype(int)\n",
      "/tmp/ipykernel_8207/3177165320.py:4: PerformanceWarning: DataFrame is highly fragmented.  This is usually the result of calling `frame.insert` many times, which has poor performance.  Consider joining all columns at once using pd.concat(axis=1) instead. To get a de-fragmented frame, use `newframe = frame.copy()`\n",
      "  df[element] = df[\"elements\"].apply(lambda x: element in x).astype(int)\n",
      "/tmp/ipykernel_8207/3177165320.py:4: PerformanceWarning: DataFrame is highly fragmented.  This is usually the result of calling `frame.insert` many times, which has poor performance.  Consider joining all columns at once using pd.concat(axis=1) instead. To get a de-fragmented frame, use `newframe = frame.copy()`\n",
      "  df[element] = df[\"elements\"].apply(lambda x: element in x).astype(int)\n",
      "/tmp/ipykernel_8207/3177165320.py:4: PerformanceWarning: DataFrame is highly fragmented.  This is usually the result of calling `frame.insert` many times, which has poor performance.  Consider joining all columns at once using pd.concat(axis=1) instead. To get a de-fragmented frame, use `newframe = frame.copy()`\n",
      "  df[element] = df[\"elements\"].apply(lambda x: element in x).astype(int)\n",
      "/tmp/ipykernel_8207/3177165320.py:4: PerformanceWarning: DataFrame is highly fragmented.  This is usually the result of calling `frame.insert` many times, which has poor performance.  Consider joining all columns at once using pd.concat(axis=1) instead. To get a de-fragmented frame, use `newframe = frame.copy()`\n",
      "  df[element] = df[\"elements\"].apply(lambda x: element in x).astype(int)\n",
      "/tmp/ipykernel_8207/3177165320.py:4: PerformanceWarning: DataFrame is highly fragmented.  This is usually the result of calling `frame.insert` many times, which has poor performance.  Consider joining all columns at once using pd.concat(axis=1) instead. To get a de-fragmented frame, use `newframe = frame.copy()`\n",
      "  df[element] = df[\"elements\"].apply(lambda x: element in x).astype(int)\n",
      "/tmp/ipykernel_8207/3177165320.py:4: PerformanceWarning: DataFrame is highly fragmented.  This is usually the result of calling `frame.insert` many times, which has poor performance.  Consider joining all columns at once using pd.concat(axis=1) instead. To get a de-fragmented frame, use `newframe = frame.copy()`\n",
      "  df[element] = df[\"elements\"].apply(lambda x: element in x).astype(int)\n",
      "/tmp/ipykernel_8207/3177165320.py:4: PerformanceWarning: DataFrame is highly fragmented.  This is usually the result of calling `frame.insert` many times, which has poor performance.  Consider joining all columns at once using pd.concat(axis=1) instead. To get a de-fragmented frame, use `newframe = frame.copy()`\n",
      "  df[element] = df[\"elements\"].apply(lambda x: element in x).astype(int)\n",
      "/tmp/ipykernel_8207/3177165320.py:4: PerformanceWarning: DataFrame is highly fragmented.  This is usually the result of calling `frame.insert` many times, which has poor performance.  Consider joining all columns at once using pd.concat(axis=1) instead. To get a de-fragmented frame, use `newframe = frame.copy()`\n",
      "  df[element] = df[\"elements\"].apply(lambda x: element in x).astype(int)\n",
      "/tmp/ipykernel_8207/3177165320.py:4: PerformanceWarning: DataFrame is highly fragmented.  This is usually the result of calling `frame.insert` many times, which has poor performance.  Consider joining all columns at once using pd.concat(axis=1) instead. To get a de-fragmented frame, use `newframe = frame.copy()`\n",
      "  df[element] = df[\"elements\"].apply(lambda x: element in x).astype(int)\n",
      "/tmp/ipykernel_8207/3177165320.py:4: PerformanceWarning: DataFrame is highly fragmented.  This is usually the result of calling `frame.insert` many times, which has poor performance.  Consider joining all columns at once using pd.concat(axis=1) instead. To get a de-fragmented frame, use `newframe = frame.copy()`\n",
      "  df[element] = df[\"elements\"].apply(lambda x: element in x).astype(int)\n",
      "/tmp/ipykernel_8207/3177165320.py:4: PerformanceWarning: DataFrame is highly fragmented.  This is usually the result of calling `frame.insert` many times, which has poor performance.  Consider joining all columns at once using pd.concat(axis=1) instead. To get a de-fragmented frame, use `newframe = frame.copy()`\n",
      "  df[element] = df[\"elements\"].apply(lambda x: element in x).astype(int)\n",
      "/tmp/ipykernel_8207/3177165320.py:4: PerformanceWarning: DataFrame is highly fragmented.  This is usually the result of calling `frame.insert` many times, which has poor performance.  Consider joining all columns at once using pd.concat(axis=1) instead. To get a de-fragmented frame, use `newframe = frame.copy()`\n",
      "  df[element] = df[\"elements\"].apply(lambda x: element in x).astype(int)\n",
      "/tmp/ipykernel_8207/3177165320.py:4: PerformanceWarning: DataFrame is highly fragmented.  This is usually the result of calling `frame.insert` many times, which has poor performance.  Consider joining all columns at once using pd.concat(axis=1) instead. To get a de-fragmented frame, use `newframe = frame.copy()`\n",
      "  df[element] = df[\"elements\"].apply(lambda x: element in x).astype(int)\n",
      "/tmp/ipykernel_8207/3177165320.py:4: PerformanceWarning: DataFrame is highly fragmented.  This is usually the result of calling `frame.insert` many times, which has poor performance.  Consider joining all columns at once using pd.concat(axis=1) instead. To get a de-fragmented frame, use `newframe = frame.copy()`\n",
      "  df[element] = df[\"elements\"].apply(lambda x: element in x).astype(int)\n",
      "/tmp/ipykernel_8207/3177165320.py:4: PerformanceWarning: DataFrame is highly fragmented.  This is usually the result of calling `frame.insert` many times, which has poor performance.  Consider joining all columns at once using pd.concat(axis=1) instead. To get a de-fragmented frame, use `newframe = frame.copy()`\n",
      "  df[element] = df[\"elements\"].apply(lambda x: element in x).astype(int)\n",
      "/tmp/ipykernel_8207/3177165320.py:4: PerformanceWarning: DataFrame is highly fragmented.  This is usually the result of calling `frame.insert` many times, which has poor performance.  Consider joining all columns at once using pd.concat(axis=1) instead. To get a de-fragmented frame, use `newframe = frame.copy()`\n",
      "  df[element] = df[\"elements\"].apply(lambda x: element in x).astype(int)\n",
      "/tmp/ipykernel_8207/3177165320.py:4: PerformanceWarning: DataFrame is highly fragmented.  This is usually the result of calling `frame.insert` many times, which has poor performance.  Consider joining all columns at once using pd.concat(axis=1) instead. To get a de-fragmented frame, use `newframe = frame.copy()`\n",
      "  df[element] = df[\"elements\"].apply(lambda x: element in x).astype(int)\n",
      "/tmp/ipykernel_8207/3177165320.py:4: PerformanceWarning: DataFrame is highly fragmented.  This is usually the result of calling `frame.insert` many times, which has poor performance.  Consider joining all columns at once using pd.concat(axis=1) instead. To get a de-fragmented frame, use `newframe = frame.copy()`\n",
      "  df[element] = df[\"elements\"].apply(lambda x: element in x).astype(int)\n",
      "/tmp/ipykernel_8207/3177165320.py:4: PerformanceWarning: DataFrame is highly fragmented.  This is usually the result of calling `frame.insert` many times, which has poor performance.  Consider joining all columns at once using pd.concat(axis=1) instead. To get a de-fragmented frame, use `newframe = frame.copy()`\n",
      "  df[element] = df[\"elements\"].apply(lambda x: element in x).astype(int)\n",
      "/tmp/ipykernel_8207/3177165320.py:4: PerformanceWarning: DataFrame is highly fragmented.  This is usually the result of calling `frame.insert` many times, which has poor performance.  Consider joining all columns at once using pd.concat(axis=1) instead. To get a de-fragmented frame, use `newframe = frame.copy()`\n",
      "  df[element] = df[\"elements\"].apply(lambda x: element in x).astype(int)\n",
      "/tmp/ipykernel_8207/3177165320.py:4: PerformanceWarning: DataFrame is highly fragmented.  This is usually the result of calling `frame.insert` many times, which has poor performance.  Consider joining all columns at once using pd.concat(axis=1) instead. To get a de-fragmented frame, use `newframe = frame.copy()`\n",
      "  df[element] = df[\"elements\"].apply(lambda x: element in x).astype(int)\n",
      "/tmp/ipykernel_8207/3177165320.py:4: PerformanceWarning: DataFrame is highly fragmented.  This is usually the result of calling `frame.insert` many times, which has poor performance.  Consider joining all columns at once using pd.concat(axis=1) instead. To get a de-fragmented frame, use `newframe = frame.copy()`\n",
      "  df[element] = df[\"elements\"].apply(lambda x: element in x).astype(int)\n",
      "/tmp/ipykernel_8207/3177165320.py:4: PerformanceWarning: DataFrame is highly fragmented.  This is usually the result of calling `frame.insert` many times, which has poor performance.  Consider joining all columns at once using pd.concat(axis=1) instead. To get a de-fragmented frame, use `newframe = frame.copy()`\n",
      "  df[element] = df[\"elements\"].apply(lambda x: element in x).astype(int)\n",
      "/tmp/ipykernel_8207/3177165320.py:4: PerformanceWarning: DataFrame is highly fragmented.  This is usually the result of calling `frame.insert` many times, which has poor performance.  Consider joining all columns at once using pd.concat(axis=1) instead. To get a de-fragmented frame, use `newframe = frame.copy()`\n",
      "  df[element] = df[\"elements\"].apply(lambda x: element in x).astype(int)\n",
      "/tmp/ipykernel_8207/3177165320.py:4: PerformanceWarning: DataFrame is highly fragmented.  This is usually the result of calling `frame.insert` many times, which has poor performance.  Consider joining all columns at once using pd.concat(axis=1) instead. To get a de-fragmented frame, use `newframe = frame.copy()`\n",
      "  df[element] = df[\"elements\"].apply(lambda x: element in x).astype(int)\n",
      "/tmp/ipykernel_8207/3177165320.py:4: PerformanceWarning: DataFrame is highly fragmented.  This is usually the result of calling `frame.insert` many times, which has poor performance.  Consider joining all columns at once using pd.concat(axis=1) instead. To get a de-fragmented frame, use `newframe = frame.copy()`\n",
      "  df[element] = df[\"elements\"].apply(lambda x: element in x).astype(int)\n",
      "/tmp/ipykernel_8207/3177165320.py:4: PerformanceWarning: DataFrame is highly fragmented.  This is usually the result of calling `frame.insert` many times, which has poor performance.  Consider joining all columns at once using pd.concat(axis=1) instead. To get a de-fragmented frame, use `newframe = frame.copy()`\n",
      "  df[element] = df[\"elements\"].apply(lambda x: element in x).astype(int)\n",
      "/tmp/ipykernel_8207/3177165320.py:4: PerformanceWarning: DataFrame is highly fragmented.  This is usually the result of calling `frame.insert` many times, which has poor performance.  Consider joining all columns at once using pd.concat(axis=1) instead. To get a de-fragmented frame, use `newframe = frame.copy()`\n",
      "  df[element] = df[\"elements\"].apply(lambda x: element in x).astype(int)\n",
      "/tmp/ipykernel_8207/3177165320.py:4: PerformanceWarning: DataFrame is highly fragmented.  This is usually the result of calling `frame.insert` many times, which has poor performance.  Consider joining all columns at once using pd.concat(axis=1) instead. To get a de-fragmented frame, use `newframe = frame.copy()`\n",
      "  df[element] = df[\"elements\"].apply(lambda x: element in x).astype(int)\n",
      "/tmp/ipykernel_8207/3177165320.py:4: PerformanceWarning: DataFrame is highly fragmented.  This is usually the result of calling `frame.insert` many times, which has poor performance.  Consider joining all columns at once using pd.concat(axis=1) instead. To get a de-fragmented frame, use `newframe = frame.copy()`\n",
      "  df[element] = df[\"elements\"].apply(lambda x: element in x).astype(int)\n",
      "/tmp/ipykernel_8207/3177165320.py:4: PerformanceWarning: DataFrame is highly fragmented.  This is usually the result of calling `frame.insert` many times, which has poor performance.  Consider joining all columns at once using pd.concat(axis=1) instead. To get a de-fragmented frame, use `newframe = frame.copy()`\n",
      "  df[element] = df[\"elements\"].apply(lambda x: element in x).astype(int)\n",
      "/tmp/ipykernel_8207/3177165320.py:4: PerformanceWarning: DataFrame is highly fragmented.  This is usually the result of calling `frame.insert` many times, which has poor performance.  Consider joining all columns at once using pd.concat(axis=1) instead. To get a de-fragmented frame, use `newframe = frame.copy()`\n",
      "  df[element] = df[\"elements\"].apply(lambda x: element in x).astype(int)\n",
      "/tmp/ipykernel_8207/3177165320.py:4: PerformanceWarning: DataFrame is highly fragmented.  This is usually the result of calling `frame.insert` many times, which has poor performance.  Consider joining all columns at once using pd.concat(axis=1) instead. To get a de-fragmented frame, use `newframe = frame.copy()`\n",
      "  df[element] = df[\"elements\"].apply(lambda x: element in x).astype(int)\n",
      "/tmp/ipykernel_8207/3177165320.py:4: PerformanceWarning: DataFrame is highly fragmented.  This is usually the result of calling `frame.insert` many times, which has poor performance.  Consider joining all columns at once using pd.concat(axis=1) instead. To get a de-fragmented frame, use `newframe = frame.copy()`\n",
      "  df[element] = df[\"elements\"].apply(lambda x: element in x).astype(int)\n",
      "/tmp/ipykernel_8207/3177165320.py:4: PerformanceWarning: DataFrame is highly fragmented.  This is usually the result of calling `frame.insert` many times, which has poor performance.  Consider joining all columns at once using pd.concat(axis=1) instead. To get a de-fragmented frame, use `newframe = frame.copy()`\n",
      "  df[element] = df[\"elements\"].apply(lambda x: element in x).astype(int)\n",
      "/tmp/ipykernel_8207/3177165320.py:4: PerformanceWarning: DataFrame is highly fragmented.  This is usually the result of calling `frame.insert` many times, which has poor performance.  Consider joining all columns at once using pd.concat(axis=1) instead. To get a de-fragmented frame, use `newframe = frame.copy()`\n",
      "  df[element] = df[\"elements\"].apply(lambda x: element in x).astype(int)\n",
      "/tmp/ipykernel_8207/3177165320.py:4: PerformanceWarning: DataFrame is highly fragmented.  This is usually the result of calling `frame.insert` many times, which has poor performance.  Consider joining all columns at once using pd.concat(axis=1) instead. To get a de-fragmented frame, use `newframe = frame.copy()`\n",
      "  df[element] = df[\"elements\"].apply(lambda x: element in x).astype(int)\n",
      "/tmp/ipykernel_8207/3177165320.py:4: PerformanceWarning: DataFrame is highly fragmented.  This is usually the result of calling `frame.insert` many times, which has poor performance.  Consider joining all columns at once using pd.concat(axis=1) instead. To get a de-fragmented frame, use `newframe = frame.copy()`\n",
      "  df[element] = df[\"elements\"].apply(lambda x: element in x).astype(int)\n",
      "/tmp/ipykernel_8207/3177165320.py:4: PerformanceWarning: DataFrame is highly fragmented.  This is usually the result of calling `frame.insert` many times, which has poor performance.  Consider joining all columns at once using pd.concat(axis=1) instead. To get a de-fragmented frame, use `newframe = frame.copy()`\n",
      "  df[element] = df[\"elements\"].apply(lambda x: element in x).astype(int)\n",
      "/tmp/ipykernel_8207/3177165320.py:4: PerformanceWarning: DataFrame is highly fragmented.  This is usually the result of calling `frame.insert` many times, which has poor performance.  Consider joining all columns at once using pd.concat(axis=1) instead. To get a de-fragmented frame, use `newframe = frame.copy()`\n",
      "  df[element] = df[\"elements\"].apply(lambda x: element in x).astype(int)\n",
      "/tmp/ipykernel_8207/3177165320.py:4: PerformanceWarning: DataFrame is highly fragmented.  This is usually the result of calling `frame.insert` many times, which has poor performance.  Consider joining all columns at once using pd.concat(axis=1) instead. To get a de-fragmented frame, use `newframe = frame.copy()`\n",
      "  df[element] = df[\"elements\"].apply(lambda x: element in x).astype(int)\n",
      "/tmp/ipykernel_8207/3177165320.py:4: PerformanceWarning: DataFrame is highly fragmented.  This is usually the result of calling `frame.insert` many times, which has poor performance.  Consider joining all columns at once using pd.concat(axis=1) instead. To get a de-fragmented frame, use `newframe = frame.copy()`\n",
      "  df[element] = df[\"elements\"].apply(lambda x: element in x).astype(int)\n",
      "/tmp/ipykernel_8207/3177165320.py:4: PerformanceWarning: DataFrame is highly fragmented.  This is usually the result of calling `frame.insert` many times, which has poor performance.  Consider joining all columns at once using pd.concat(axis=1) instead. To get a de-fragmented frame, use `newframe = frame.copy()`\n",
      "  df[element] = df[\"elements\"].apply(lambda x: element in x).astype(int)\n",
      "/tmp/ipykernel_8207/3177165320.py:4: PerformanceWarning: DataFrame is highly fragmented.  This is usually the result of calling `frame.insert` many times, which has poor performance.  Consider joining all columns at once using pd.concat(axis=1) instead. To get a de-fragmented frame, use `newframe = frame.copy()`\n",
      "  df[element] = df[\"elements\"].apply(lambda x: element in x).astype(int)\n",
      "/tmp/ipykernel_8207/3177165320.py:4: PerformanceWarning: DataFrame is highly fragmented.  This is usually the result of calling `frame.insert` many times, which has poor performance.  Consider joining all columns at once using pd.concat(axis=1) instead. To get a de-fragmented frame, use `newframe = frame.copy()`\n",
      "  df[element] = df[\"elements\"].apply(lambda x: element in x).astype(int)\n",
      "/tmp/ipykernel_8207/3177165320.py:4: PerformanceWarning: DataFrame is highly fragmented.  This is usually the result of calling `frame.insert` many times, which has poor performance.  Consider joining all columns at once using pd.concat(axis=1) instead. To get a de-fragmented frame, use `newframe = frame.copy()`\n",
      "  df[element] = df[\"elements\"].apply(lambda x: element in x).astype(int)\n",
      "/tmp/ipykernel_8207/3177165320.py:4: PerformanceWarning: DataFrame is highly fragmented.  This is usually the result of calling `frame.insert` many times, which has poor performance.  Consider joining all columns at once using pd.concat(axis=1) instead. To get a de-fragmented frame, use `newframe = frame.copy()`\n",
      "  df[element] = df[\"elements\"].apply(lambda x: element in x).astype(int)\n",
      "/tmp/ipykernel_8207/3177165320.py:4: PerformanceWarning: DataFrame is highly fragmented.  This is usually the result of calling `frame.insert` many times, which has poor performance.  Consider joining all columns at once using pd.concat(axis=1) instead. To get a de-fragmented frame, use `newframe = frame.copy()`\n",
      "  df[element] = df[\"elements\"].apply(lambda x: element in x).astype(int)\n",
      "/tmp/ipykernel_8207/3177165320.py:4: PerformanceWarning: DataFrame is highly fragmented.  This is usually the result of calling `frame.insert` many times, which has poor performance.  Consider joining all columns at once using pd.concat(axis=1) instead. To get a de-fragmented frame, use `newframe = frame.copy()`\n",
      "  df[element] = df[\"elements\"].apply(lambda x: element in x).astype(int)\n",
      "/tmp/ipykernel_8207/3177165320.py:4: PerformanceWarning: DataFrame is highly fragmented.  This is usually the result of calling `frame.insert` many times, which has poor performance.  Consider joining all columns at once using pd.concat(axis=1) instead. To get a de-fragmented frame, use `newframe = frame.copy()`\n",
      "  df[element] = df[\"elements\"].apply(lambda x: element in x).astype(int)\n",
      "/tmp/ipykernel_8207/3177165320.py:4: PerformanceWarning: DataFrame is highly fragmented.  This is usually the result of calling `frame.insert` many times, which has poor performance.  Consider joining all columns at once using pd.concat(axis=1) instead. To get a de-fragmented frame, use `newframe = frame.copy()`\n",
      "  df[element] = df[\"elements\"].apply(lambda x: element in x).astype(int)\n",
      "/tmp/ipykernel_8207/3177165320.py:4: PerformanceWarning: DataFrame is highly fragmented.  This is usually the result of calling `frame.insert` many times, which has poor performance.  Consider joining all columns at once using pd.concat(axis=1) instead. To get a de-fragmented frame, use `newframe = frame.copy()`\n",
      "  df[element] = df[\"elements\"].apply(lambda x: element in x).astype(int)\n",
      "/tmp/ipykernel_8207/3177165320.py:4: PerformanceWarning: DataFrame is highly fragmented.  This is usually the result of calling `frame.insert` many times, which has poor performance.  Consider joining all columns at once using pd.concat(axis=1) instead. To get a de-fragmented frame, use `newframe = frame.copy()`\n",
      "  df[element] = df[\"elements\"].apply(lambda x: element in x).astype(int)\n",
      "/tmp/ipykernel_8207/3177165320.py:4: PerformanceWarning: DataFrame is highly fragmented.  This is usually the result of calling `frame.insert` many times, which has poor performance.  Consider joining all columns at once using pd.concat(axis=1) instead. To get a de-fragmented frame, use `newframe = frame.copy()`\n",
      "  df[element] = df[\"elements\"].apply(lambda x: element in x).astype(int)\n",
      "/tmp/ipykernel_8207/3177165320.py:4: PerformanceWarning: DataFrame is highly fragmented.  This is usually the result of calling `frame.insert` many times, which has poor performance.  Consider joining all columns at once using pd.concat(axis=1) instead. To get a de-fragmented frame, use `newframe = frame.copy()`\n",
      "  df[element] = df[\"elements\"].apply(lambda x: element in x).astype(int)\n",
      "/tmp/ipykernel_8207/3177165320.py:4: PerformanceWarning: DataFrame is highly fragmented.  This is usually the result of calling `frame.insert` many times, which has poor performance.  Consider joining all columns at once using pd.concat(axis=1) instead. To get a de-fragmented frame, use `newframe = frame.copy()`\n",
      "  df[element] = df[\"elements\"].apply(lambda x: element in x).astype(int)\n"
     ]
    }
   ],
   "source": [
    "# create a one-hot encoding of the elements in the \"elements\" column\n",
    "elements = list(set([el for row in df['elements'].str.split(',') for el in row]))\n",
    "for element in elements:\n",
    "    df[element] = df[\"elements\"].apply(lambda x: element in x).astype(int)"
   ]
  },
  {
   "cell_type": "code",
   "execution_count": 5,
   "id": "5fbb32f0-79cc-44ee-87fc-d702c2479555",
   "metadata": {
    "tags": []
   },
   "outputs": [],
   "source": [
    "# create the feature matrix X and the target variable y\n",
    "X = df[elements].values\n",
    "y = df[\"spacegroup_num\"].values"
   ]
  },
  {
   "cell_type": "code",
   "execution_count": 6,
   "id": "c594e64f-4836-4641-bc7c-abb352bdbf1c",
   "metadata": {
    "tags": []
   },
   "outputs": [
    {
     "data": {
      "text/plain": [
       "(10628, 156)"
      ]
     },
     "execution_count": 6,
     "metadata": {},
     "output_type": "execute_result"
    }
   ],
   "source": [
    "X.shape"
   ]
  },
  {
   "cell_type": "code",
   "execution_count": 7,
   "id": "63b47916-f2dc-4a29-8846-34172dc21707",
   "metadata": {
    "tags": []
   },
   "outputs": [
    {
     "name": "stdout",
     "output_type": "stream",
     "text": [
      "[[0 0 0 0 0 0 0 0 0 0 0 0 0 0 0 0 0 0 0 0 0 0 0 0 0 0 0 0 0 0 0 1 0 0 0 0\n",
      "  0 0 0 0 0 0 0 0 0 0 0 0 0 0 0 0 0 0 0 0 0 0 0 0 0 0 0 0 0 0 0 0 1 1 0 0\n",
      "  0 0 0 0 0 0 0 1 0 0 0 1 0 0 0 0 0 0 0 0 0 0 0 0 0 0 0 0 0 0 0 0 0 0 0 0\n",
      "  0 0 0 0 0 0 0 0 0 0 0 0 0 0 0 0 0 0 0 0 0 0 0 0 0 0 0 0 0 0 0 0 0 0 0 0\n",
      "  0 0 0 0 0 0 0 0 0 0 0 0]\n",
      " [0 0 0 0 0 0 0 0 0 0 0 0 0 0 0 0 0 0 0 0 0 0 0 0 0 0 0 0 0 0 0 0 0 0 0 0\n",
      "  0 0 0 0 0 0 0 0 0 0 0 1 0 0 0 0 0 0 0 0 0 0 0 0 0 0 0 0 0 0 0 0 0 1 0 0\n",
      "  0 0 0 0 0 0 0 0 0 0 0 0 0 0 0 0 0 0 0 0 0 1 0 0 0 0 0 0 0 0 0 0 0 0 0 0\n",
      "  0 0 0 0 0 1 0 0 0 0 0 0 1 0 0 0 0 0 0 0 0 0 0 0 0 0 0 0 0 0 0 0 0 0 0 0\n",
      "  0 0 0 0 0 0 0 0 0 0 0 0]\n",
      " [0 0 0 0 0 0 0 0 0 0 0 0 0 0 0 0 0 0 0 0 0 0 0 0 0 0 1 0 0 0 0 0 0 0 0 0\n",
      "  0 0 0 0 0 0 0 0 0 0 0 0 0 0 0 0 0 0 0 0 0 0 0 0 0 0 0 1 0 0 0 0 0 1 0 0\n",
      "  0 0 0 0 0 0 0 0 0 0 0 0 0 0 0 0 0 0 0 0 0 0 0 0 0 0 0 0 0 0 0 0 0 0 0 0\n",
      "  0 0 0 0 0 0 0 1 0 0 0 0 0 1 0 0 0 0 0 0 0 0 0 0 0 0 0 0 0 0 0 0 0 0 0 0\n",
      "  0 0 0 0 0 0 0 0 0 0 0 0]\n",
      " [0 0 0 0 0 0 0 0 0 0 0 0 0 0 0 0 0 0 0 0 0 0 0 0 0 0 0 0 0 0 0 0 0 0 0 0\n",
      "  0 0 0 0 0 0 0 0 0 0 0 0 0 0 0 0 0 0 0 0 0 0 0 0 0 0 0 0 0 0 0 0 0 1 0 0\n",
      "  0 0 0 0 0 0 0 0 0 0 0 0 0 0 0 0 0 0 0 0 1 0 0 0 0 0 0 0 0 0 0 0 0 0 0 0\n",
      "  0 0 0 0 0 0 0 0 0 0 0 0 0 0 0 0 0 0 0 0 0 0 0 0 0 0 0 0 0 0 0 0 0 0 0 0\n",
      "  0 0 0 0 0 0 0 0 0 0 0 0]\n",
      " [0 0 0 0 0 0 0 0 0 0 0 0 0 0 0 0 0 0 0 0 0 0 0 0 0 0 0 0 0 0 0 0 0 0 0 0\n",
      "  0 0 0 0 0 0 0 0 0 0 0 0 0 0 0 0 0 0 0 0 0 0 0 0 0 0 0 0 0 0 0 0 0 1 0 0\n",
      "  0 0 0 0 0 0 0 0 0 0 0 0 0 0 0 0 0 0 0 0 1 0 0 0 0 0 0 0 0 0 0 0 0 0 0 0\n",
      "  0 0 0 0 0 0 0 0 0 0 0 0 0 0 0 0 0 0 0 0 0 0 0 0 0 0 0 0 0 0 0 0 0 0 0 0\n",
      "  0 0 0 0 0 0 0 0 0 0 0 0]]\n"
     ]
    }
   ],
   "source": [
    "print(X[:5])"
   ]
  },
  {
   "cell_type": "code",
   "execution_count": 8,
   "id": "1d2ead96-bde0-42b2-a4cd-801e1448c0b7",
   "metadata": {
    "tags": []
   },
   "outputs": [],
   "source": [
    "# split the data into training and testing sets\n",
    "X_train, X_test, y_train, y_test = train_test_split(X, y, test_size=0.2, random_state=0)"
   ]
  },
  {
   "cell_type": "code",
   "execution_count": 9,
   "id": "86866124-778b-4fb9-8222-da9a0b07324d",
   "metadata": {
    "tags": []
   },
   "outputs": [
    {
     "data": {
      "text/html": [
       "<style>#sk-container-id-1 {color: black;background-color: white;}#sk-container-id-1 pre{padding: 0;}#sk-container-id-1 div.sk-toggleable {background-color: white;}#sk-container-id-1 label.sk-toggleable__label {cursor: pointer;display: block;width: 100%;margin-bottom: 0;padding: 0.3em;box-sizing: border-box;text-align: center;}#sk-container-id-1 label.sk-toggleable__label-arrow:before {content: \"▸\";float: left;margin-right: 0.25em;color: #696969;}#sk-container-id-1 label.sk-toggleable__label-arrow:hover:before {color: black;}#sk-container-id-1 div.sk-estimator:hover label.sk-toggleable__label-arrow:before {color: black;}#sk-container-id-1 div.sk-toggleable__content {max-height: 0;max-width: 0;overflow: hidden;text-align: left;background-color: #f0f8ff;}#sk-container-id-1 div.sk-toggleable__content pre {margin: 0.2em;color: black;border-radius: 0.25em;background-color: #f0f8ff;}#sk-container-id-1 input.sk-toggleable__control:checked~div.sk-toggleable__content {max-height: 200px;max-width: 100%;overflow: auto;}#sk-container-id-1 input.sk-toggleable__control:checked~label.sk-toggleable__label-arrow:before {content: \"▾\";}#sk-container-id-1 div.sk-estimator input.sk-toggleable__control:checked~label.sk-toggleable__label {background-color: #d4ebff;}#sk-container-id-1 div.sk-label input.sk-toggleable__control:checked~label.sk-toggleable__label {background-color: #d4ebff;}#sk-container-id-1 input.sk-hidden--visually {border: 0;clip: rect(1px 1px 1px 1px);clip: rect(1px, 1px, 1px, 1px);height: 1px;margin: -1px;overflow: hidden;padding: 0;position: absolute;width: 1px;}#sk-container-id-1 div.sk-estimator {font-family: monospace;background-color: #f0f8ff;border: 1px dotted black;border-radius: 0.25em;box-sizing: border-box;margin-bottom: 0.5em;}#sk-container-id-1 div.sk-estimator:hover {background-color: #d4ebff;}#sk-container-id-1 div.sk-parallel-item::after {content: \"\";width: 100%;border-bottom: 1px solid gray;flex-grow: 1;}#sk-container-id-1 div.sk-label:hover label.sk-toggleable__label {background-color: #d4ebff;}#sk-container-id-1 div.sk-serial::before {content: \"\";position: absolute;border-left: 1px solid gray;box-sizing: border-box;top: 0;bottom: 0;left: 50%;z-index: 0;}#sk-container-id-1 div.sk-serial {display: flex;flex-direction: column;align-items: center;background-color: white;padding-right: 0.2em;padding-left: 0.2em;position: relative;}#sk-container-id-1 div.sk-item {position: relative;z-index: 1;}#sk-container-id-1 div.sk-parallel {display: flex;align-items: stretch;justify-content: center;background-color: white;position: relative;}#sk-container-id-1 div.sk-item::before, #sk-container-id-1 div.sk-parallel-item::before {content: \"\";position: absolute;border-left: 1px solid gray;box-sizing: border-box;top: 0;bottom: 0;left: 50%;z-index: -1;}#sk-container-id-1 div.sk-parallel-item {display: flex;flex-direction: column;z-index: 1;position: relative;background-color: white;}#sk-container-id-1 div.sk-parallel-item:first-child::after {align-self: flex-end;width: 50%;}#sk-container-id-1 div.sk-parallel-item:last-child::after {align-self: flex-start;width: 50%;}#sk-container-id-1 div.sk-parallel-item:only-child::after {width: 0;}#sk-container-id-1 div.sk-dashed-wrapped {border: 1px dashed gray;margin: 0 0.4em 0.5em 0.4em;box-sizing: border-box;padding-bottom: 0.4em;background-color: white;}#sk-container-id-1 div.sk-label label {font-family: monospace;font-weight: bold;display: inline-block;line-height: 1.2em;}#sk-container-id-1 div.sk-label-container {text-align: center;}#sk-container-id-1 div.sk-container {/* jupyter's `normalize.less` sets `[hidden] { display: none; }` but bootstrap.min.css set `[hidden] { display: none !important; }` so we also need the `!important` here to be able to override the default hidden behavior on the sphinx rendered scikit-learn.org. See: https://github.com/scikit-learn/scikit-learn/issues/21755 */display: inline-block !important;position: relative;}#sk-container-id-1 div.sk-text-repr-fallback {display: none;}</style><div id=\"sk-container-id-1\" class=\"sk-top-container\"><div class=\"sk-text-repr-fallback\"><pre>RandomForestClassifier(random_state=42)</pre><b>In a Jupyter environment, please rerun this cell to show the HTML representation or trust the notebook. <br />On GitHub, the HTML representation is unable to render, please try loading this page with nbviewer.org.</b></div><div class=\"sk-container\" hidden><div class=\"sk-item\"><div class=\"sk-estimator sk-toggleable\"><input class=\"sk-toggleable__control sk-hidden--visually\" id=\"sk-estimator-id-1\" type=\"checkbox\" checked><label for=\"sk-estimator-id-1\" class=\"sk-toggleable__label sk-toggleable__label-arrow\">RandomForestClassifier</label><div class=\"sk-toggleable__content\"><pre>RandomForestClassifier(random_state=42)</pre></div></div></div></div></div>"
      ],
      "text/plain": [
       "RandomForestClassifier(random_state=42)"
      ]
     },
     "execution_count": 9,
     "metadata": {},
     "output_type": "execute_result"
    }
   ],
   "source": [
    "# Train the random forest classifier\n",
    "rfc = RandomForestClassifier(n_estimators=100, random_state=42)\n",
    "rfc.fit(X_train, y_train)"
   ]
  },
  {
   "cell_type": "code",
   "execution_count": 10,
   "id": "7e484922-2b36-4d0b-ad62-8050af2b7399",
   "metadata": {
    "tags": []
   },
   "outputs": [],
   "source": [
    "# Make predictions on the test set\n",
    "y_pred = rfc.predict(X_test)"
   ]
  },
  {
   "cell_type": "code",
   "execution_count": 11,
   "id": "4f94fcc5-e8f1-433a-9a2c-1fcce72c0251",
   "metadata": {
    "tags": []
   },
   "outputs": [
    {
     "name": "stdout",
     "output_type": "stream",
     "text": [
      "Accuracy: 0.0973659454374412\n"
     ]
    }
   ],
   "source": [
    "# Calculate the accuracy of the model\n",
    "accuracy = accuracy_score(y_test, y_pred)\n",
    "print(\"Accuracy:\", accuracy)"
   ]
  },
  {
   "cell_type": "code",
   "execution_count": null,
   "id": "dccc6724-fdaa-4a11-bcb7-6dc2a41b7ae3",
   "metadata": {},
   "outputs": [],
   "source": []
  }
 ],
 "metadata": {
  "kernelspec": {
   "display_name": "Python 3 (ipykernel)",
   "language": "python",
   "name": "python3"
  },
  "language_info": {
   "codemirror_mode": {
    "name": "ipython",
    "version": 3
   },
   "file_extension": ".py",
   "mimetype": "text/x-python",
   "name": "python",
   "nbconvert_exporter": "python",
   "pygments_lexer": "ipython3",
   "version": "3.10.10"
  }
 },
 "nbformat": 4,
 "nbformat_minor": 5
}
